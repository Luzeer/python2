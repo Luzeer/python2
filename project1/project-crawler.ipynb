{
 "cells": [
  {
   "cell_type": "code",
   "execution_count": 81,
   "metadata": {},
   "outputs": [],
   "source": [
    "from bs4 import BeautifulSoup\n",
    "import urllib.request\n",
    "import re\n",
    "import os\n",
    "import shutil\n",
    "import json"
   ]
  },
  {
   "cell_type": "code",
   "execution_count": 82,
   "metadata": {},
   "outputs": [],
   "source": [
    "def prepare_text(name, doc):\n",
    "    doc_name = doc.contents[0]\n",
    "    doc_url = re.search(r'<a href=\"(.*?)\">', str(doc)).group(1)\n",
    "\n",
    "    url = 'http://magazines.russ.ru' + str(doc_url)\n",
    "    response = urllib.request.urlopen(url)\n",
    "    page = response.read().decode('utf-8')\n",
    "    soup = BeautifulSoup(page, \"html.parser\")\n",
    "\n",
    "    for script in soup([\"script\", \"style\"]):\n",
    "        script.extract()    # rip it out\n",
    "        text = soup.get_text()\n",
    "\n",
    "    lines = (line.strip() for line in text.splitlines())\n",
    "    chunks = (phrase.strip() for line in lines for phrase in line.split(\"  \"))\n",
    "    text = '\\n'.join(chunk for chunk in chunks if chunk)\n",
    "    text = text[text.find('Опубликовано в журнале') + 28:text.find('Версия для печати')]\n",
    "    \n",
    "    return text"
   ]
  },
  {
   "cell_type": "code",
   "execution_count": 83,
   "metadata": {},
   "outputs": [],
   "source": [
    "def parse_page(page, directory):\n",
    "    if not os.path.exists(directory):\n",
    "        os.makedirs(directory)\n",
    "\n",
    "    soup = BeautifulSoup(page, \"html.parser\")\n",
    "    a_data = soup.find_all(\"div\",{\"class\":\"jrn_right col-xs-10\"})\n",
    "\n",
    "    a = a_data[0].find_all('a')\n",
    "    n = a_data[0].find_all('strong')\n",
    "    \n",
    "    i = 0\n",
    "    for name, doc in zip(n, a):\n",
    "        text = prepare_text(name, doc)\n",
    "        \n",
    "        f = open(directory + 'article' + str(i).zfill(2) + '.txt', 'w+', encoding=\"utf-8\")\n",
    "        f.write(text)\n",
    "        f.close()\n",
    "        \n",
    "        i += 1\n",
    "        \n",
    "    return text"
   ]
  },
  {
   "cell_type": "code",
   "execution_count": 86,
   "metadata": {},
   "outputs": [],
   "source": [
    "def get_data(path='.', \n",
    "             url='http://magazines.russ.ru/ural/%d/%d',\n",
    "             year_start = 2016, month_start = 1,\n",
    "             year_end = 2017, month_end = 12):\n",
    "    \n",
    "    data = []\n",
    "    \n",
    "    month_max = 12\n",
    "\n",
    "    for year in range(year_start, year_end + 1):\n",
    "        for month in range(month_start, month_max + 1):\n",
    "            if (year == year_end and month > month_end):\n",
    "                break\n",
    "\n",
    "            response = urllib.request.urlopen(url % (year, month))\n",
    "            page = response.read().decode('utf-8')\n",
    "            data.append(page)\n",
    "            \n",
    "            directory = path + '/plain/' + str(year) + '/' + str(month).zfill(2) + '/'\n",
    "            parse_page(page, directory)\n",
    "    return"
   ]
  },
  {
   "cell_type": "code",
   "execution_count": 87,
   "metadata": {},
   "outputs": [],
   "source": [
    "a = get_data('zhurnalnii_stol_1', 'http://magazines.russ.ru/ural/%d/%d', 2016, 1, 2018, 6)"
   ]
  },
  {
   "cell_type": "code",
   "execution_count": null,
   "metadata": {},
   "outputs": [],
   "source": []
  }
 ],
 "metadata": {
  "kernelspec": {
   "display_name": "Python 3",
   "language": "python",
   "name": "python3"
  },
  "language_info": {
   "codemirror_mode": {
    "name": "ipython",
    "version": 3
   },
   "file_extension": ".py",
   "mimetype": "text/x-python",
   "name": "python",
   "nbconvert_exporter": "python",
   "pygments_lexer": "ipython3",
   "version": "3.5.2"
  }
 },
 "nbformat": 4,
 "nbformat_minor": 2
}
